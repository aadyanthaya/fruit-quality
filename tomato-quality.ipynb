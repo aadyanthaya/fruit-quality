{
 "cells": [
  {
   "cell_type": "code",
   "execution_count": null,
   "id": "858ad77c",
   "metadata": {},
   "outputs": [],
   "source": [
    "import tensorflow as tf\n",
    "from tensorflow.keras.optimizers import RMSprop\n",
    "import keras_preprocessing\n",
    "from keras_preprocessing import image\n",
    "from keras.preprocessing.image import ImageDataGenerator\n",
    "import matplotlib.pyplot as plt\n",
    "import matplotlib.image as mpimg\n",
    "import os"
   ]
  },
  {
   "cell_type": "code",
   "execution_count": null,
   "id": "d861c0e9",
   "metadata": {},
   "outputs": [],
   "source": [
    "training_datagen = ImageDataGenerator(rescale = 1./255)\n",
    "validation_datagen = ImageDataGenerator(rescale = 1./255)"
   ]
  },
  {
   "cell_type": "code",
   "execution_count": null,
   "id": "e7185a14",
   "metadata": {},
   "outputs": [],
   "source": [
    "train_dir = \"./train/train\"\n",
    "train_gen = training_datagen.flow_from_directory(train_dir, target_size=(150, 150), class_mode=\"categorical\")       "
   ]
  },
  {
   "cell_type": "code",
   "execution_count": null,
   "id": "aab695de",
   "metadata": {},
   "outputs": [],
   "source": [
    "val_dir = \"./train/val\"\n",
    "val_gen = validation_datagen.flow_from_directory(val_dir, target_size=(150, 150), class_mode=\"categorical\")"
   ]
  },
  {
   "cell_type": "code",
   "execution_count": null,
   "id": "86aada23",
   "metadata": {},
   "outputs": [],
   "source": [
    "# split directory\n",
    "train_split_dir = r\"./train/train/split\"\n",
    "\n",
    "# printing the number of split tomatoes in train dataset\n",
    "number_split_train = len(os.listdir(train_split_dir))\n",
    "print(\"total training split images:\", number_split_train)\n",
    "\n",
    "# not split directory\n",
    "train_not_split_dir = r\"./train/train/no_split\"\n",
    "\n",
    "# printing the number of split tomatoes in train dataset\n",
    "number_not_split_train = len(os.listdir(train_not_split_dir))\n",
    "print(\"total training not split images:\", number_not_split_train)"
   ]
  },
  {
   "cell_type": "code",
   "execution_count": null,
   "id": "a25105fc",
   "metadata": {},
   "outputs": [],
   "source": [
    "split_names = os.listdir(train_split_dir)\n",
    "split_names[:10]\n",
    "not_split_names = os.listdir(train_not_split_dir)\n",
    "not_split_names[:10]"
   ]
  },
  {
   "cell_type": "code",
   "execution_count": null,
   "id": "d6b4ccd5",
   "metadata": {},
   "outputs": [],
   "source": [
    "model = tf.keras.models.Sequential([\n",
    "    # first convolution\n",
    "    tf.keras.layers.Conv2D(64, (3,3), activation=\"relu\", input_shape=(150,150, 3)),\n",
    "    tf.keras.layers.MaxPooling2D(2,2),\n",
    "    # second convolution\n",
    "    tf.keras.layers.Conv2D(64, (3,3), activation=\"relu\"),\n",
    "    tf.keras.layers.MaxPooling2D(2,2),\n",
    "    # third convolution layer\n",
    "    tf.keras.layers.Conv2D(128, (3,3), activation=\"relu\"),\n",
    "    tf.keras.layers.MaxPooling2D(2,2),\n",
    "    # fourth convolution layer\n",
    "    tf.keras.layers.Conv2D(128, (3,3), activation=\"relu\"),\n",
    "    tf.keras.layers.MaxPooling2D(2,2),\n",
    "    # flatten before feeding into Dense neural network. \n",
    "    tf.keras.layers.Flatten(),\n",
    "    # 512 neurons in the hidden layer\n",
    "    tf.keras.layers.Dense(512, activation=\"relu\"),\n",
    "    # 2 categories of tomatoes \n",
    "    # softmas takes a set of values and effectively picks the biggest one. for example if the output layer has\n",
    "    # [0.1,0.1,0.5,0.2,0.1], it will take it and turn it into [0,0,1,0,0]\n",
    "    tf.keras.layers.Dense(2, activation=\"softmax\")\n",
    "]);"
   ]
  },
  {
   "cell_type": "code",
   "execution_count": null,
   "id": "99367d34",
   "metadata": {},
   "outputs": [],
   "source": [
    "model.summary()"
   ]
  },
  {
   "cell_type": "code",
   "execution_count": null,
   "id": "cb66dedd",
   "metadata": {},
   "outputs": [],
   "source": [
    "# implementing a callback function to terminate training once training reaches 98% accuracy for validation data\n",
    "\n",
    "validation_accuracy = 0.98\n",
    "\n",
    "class myCallback(tf.keras.callbacks.Callback):\n",
    "    def on_epoch_end(self, epoch, logs={}):\n",
    "        if(logs.get('val_acc') is not None and logs.get('val_acc') >= validation_accuracy):\n",
    "            print(\"\\nReached desired validation accuracy, so cancelling training\")\n",
    "            self.model.stop_training=True\n",
    "            \n",
    "callbacks = myCallback()"
   ]
  },
  {
   "cell_type": "code",
   "execution_count": null,
   "id": "399f0c21",
   "metadata": {},
   "outputs": [],
   "source": [
    "model.compile(loss = \"categorical_crossentropy\", optimizer='rmsprop', metrics=['accuracy'])"
   ]
  },
  {
   "cell_type": "code",
   "execution_count": null,
   "id": "8a9ffc93",
   "metadata": {},
   "outputs": [],
   "source": [
    "tomato_model = model.fit(train_gen, epochs=100, validation_data=val_gen, verbose=1, callbacks = [callbacks], workers=10)\n",
    "\n",
    "filepath = \"./saved_model\"\n",
    "tf.keras.models.save_model(\n",
    "    model,\n",
    "    filepath,\n",
    "    overwrite=True,\n",
    "    include_optimizer=True,\n",
    "    save_format=\"tf\",\n",
    "    signatures=None\n",
    ")\n",
    "\n",
    "model.save(\"tomato.h5\")"
   ]
  },
  {
   "cell_type": "code",
   "execution_count": null,
   "id": "ef4a0831",
   "metadata": {},
   "outputs": [],
   "source": [
    "import numpy as np\n",
    "split_image = \"./testing_images/images - 2023-02-03T172532.051.jpg\"\n",
    "\n",
    "img = image.load_img(split_image, target_size = (150, 150))\n",
    "array = image.img_to_array(img)\n",
    "x = np.expand_dims(array, axis=0)\n",
    "\n",
    "vimage = np.vstack([x])\n",
    "model.predict(vimage)"
   ]
  },
  {
   "cell_type": "code",
   "execution_count": null,
   "id": "a611e839",
   "metadata": {},
   "outputs": [],
   "source": [
    "import numpy as np\n",
    "not_split_image = \"./testing_images/images (62).jpg\"\n",
    "\n",
    "img = image.load_img(not_split_image, target_size = (150, 150))\n",
    "array = image.img_to_array(img)\n",
    "x = np.expand_dims(array, axis=0)\n",
    "\n",
    "vimage = np.vstack([x])\n",
    "model.predict(vimage)"
   ]
  },
  {
   "cell_type": "code",
   "execution_count": 5,
   "id": "88eb5d84",
   "metadata": {},
   "outputs": [],
   "source": [
    "import numpy as np\n",
    "image_dir = \"./testing_images\"\n",
    "\n",
    "def fruit_prediction(image_dir):\n",
    "    img_list = os.listdir(image_dir)\n",
    "    for tomato in img_list:\n",
    "        path = os.path.join(image_dir, tomato)\n",
    "        img = image.load_img(path, target_size = (150, 150))\n",
    "        array = image.img_to_array(img)\n",
    "        x = np.expand_dims(array, axis=0)\n",
    "\n",
    "        vimage = np.vstack([x])\n",
    "        img_classification = model.predict(vimage)\n",
    "        print(img_classification, tomato)\n",
    "\n",
    "fruit_prediction(image_dir)"
   ]
  }
 ],
 "metadata": {
  "kernelspec": {
   "display_name": "Python 3 (ipykernel)",
   "language": "python",
   "name": "python3"
  },
  "language_info": {
   "codemirror_mode": {
    "name": "ipython",
    "version": 3
   },
   "file_extension": ".py",
   "mimetype": "text/x-python",
   "name": "python",
   "nbconvert_exporter": "python",
   "pygments_lexer": "ipython3",
   "version": "3.10.9"
  }
 },
 "nbformat": 4,
 "nbformat_minor": 5
}
